{
 "cells": [
  {
   "cell_type": "code",
   "execution_count": 1,
   "metadata": {},
   "outputs": [],
   "source": [
    "import pandas as pd\n",
    "import numpy as np"
   ]
  },
  {
   "cell_type": "markdown",
   "metadata": {},
   "source": [
    "There are two type of biases:\n",
    "-Sample weigths deviated from population means: It can be corrected with census data\n",
    "-Something that prevents people form voting: "
   ]
  },
  {
   "cell_type": "markdown",
   "metadata": {},
   "source": [
    "# Data"
   ]
  },
  {
   "cell_type": "code",
   "execution_count": 316,
   "metadata": {},
   "outputs": [],
   "source": [
    "users = pd.read_csv('sample_data/users_table.csv')\n",
    "votes = pd.read_csv('sample_data/votes_table.csv')\n",
    "census = pd.read_csv('sample_data/suffolk.csv')"
   ]
  },
  {
   "cell_type": "code",
   "execution_count": 317,
   "metadata": {},
   "outputs": [],
   "source": [
    "census = census.dropna()"
   ]
  },
  {
   "cell_type": "markdown",
   "metadata": {},
   "source": [
    "# Formato"
   ]
  },
  {
   "cell_type": "markdown",
   "metadata": {},
   "source": [
    "### Census"
   ]
  },
  {
   "cell_type": "markdown",
   "metadata": {},
   "source": [
    "Cuadrar la información del censo con lo recolectado"
   ]
  },
  {
   "cell_type": "code",
   "execution_count": 318,
   "metadata": {},
   "outputs": [],
   "source": [
    "#Calcular las variables para el caso del censo\n",
    "census = census.copy()\n",
    "census['adj_factor'] = census['A_FNLWGT'] / 100"
   ]
  },
  {
   "cell_type": "code",
   "execution_count": 319,
   "metadata": {},
   "outputs": [],
   "source": [
    "# Generar rangos de variables\n",
    "census['age'] = pd.cut(census['A_AGE'], bins=[-1,21,25,35,45,60,1000],\n",
    "                           labels=[0,1,2,3,4,5]).astype('int')\n",
    "#Eliminate people under 21\n",
    "census = census[census['age']!=0]\n",
    "census['sex'] = np.where(census['A_SEX']==1,0,1)"
   ]
  },
  {
   "cell_type": "code",
   "execution_count": 320,
   "metadata": {},
   "outputs": [],
   "source": [
    "#0=single, 1=married, 2=divorced\n",
    "census.loc[census['A_MARITL']<4, 'marital_status'] = 1\n",
    "census.loc[census['A_MARITL']==7, 'marital_status'] = 0\n",
    "census.loc[census['A_MARITL']==5, 'marital_status'] = 2\n",
    "census['marital_status'] = census['marital_status'].fillna(3)"
   ]
  },
  {
   "cell_type": "code",
   "execution_count": 321,
   "metadata": {},
   "outputs": [],
   "source": [
    "#0=White, 1=Black, 2=Latino Esta variable no incluye Latinos\n",
    "census.loc[census['PRDTRACE']==1, 'ethnicity'] = 0\n",
    "census.loc[census['PRDTRACE']==2, 'ethnicity'] = 1\n",
    "census['ethnicity'] = census['ethnicity'].fillna(3)"
   ]
  },
  {
   "cell_type": "code",
   "execution_count": 322,
   "metadata": {},
   "outputs": [],
   "source": [
    "#Monthly income (1000,10000)\n",
    "census['PEARNVAL_monthly'] = census['PEARNVAL']/12\n",
    "census['income'] = pd.cut(census['PEARNVAL_monthly'], bins=[-1,1000,2500,5000,7000,1000000],\n",
    "                           labels=[0,1,2,3,4]).astype('int')"
   ]
  },
  {
   "cell_type": "code",
   "execution_count": 323,
   "metadata": {},
   "outputs": [],
   "source": [
    "# Agrupar observaciones del censo\n",
    "census_grouped = census.groupby(['region_id', 'age', 'sex',\n",
    "                                 'marital_status', 'ethnicity',\n",
    "                                 'income'\n",
    "                                ]).agg({'adj_factor':'sum'}).reset_index()"
   ]
  },
  {
   "cell_type": "code",
   "execution_count": 324,
   "metadata": {},
   "outputs": [
    {
     "data": {
      "text/plain": [
       "1032249.1200000001"
      ]
     },
     "execution_count": 324,
     "metadata": {},
     "output_type": "execute_result"
    }
   ],
   "source": [
    "census_grouped['adj_factor'].sum()"
   ]
  },
  {
   "cell_type": "code",
   "execution_count": 325,
   "metadata": {},
   "outputs": [],
   "source": [
    "#This can be done only if you have only one region\n",
    "#census_grouped['weight_census'] = census_grouped['adj_factor'] / census_grouped['adj_factor'].sum()"
   ]
  },
  {
   "cell_type": "code",
   "execution_count": 326,
   "metadata": {},
   "outputs": [],
   "source": [
    "#census_grouped = census_grouped.drop(columns=['adj_factor'])"
   ]
  },
  {
   "cell_type": "code",
   "execution_count": 327,
   "metadata": {},
   "outputs": [],
   "source": [
    "census_grouped['marital_status'] = census_grouped['marital_status'].astype('int')\n",
    "census_grouped['ethnicity'] = census_grouped['ethnicity'].astype('int')"
   ]
  },
  {
   "cell_type": "code",
   "execution_count": 328,
   "metadata": {},
   "outputs": [
    {
     "data": {
      "text/html": [
       "<div>\n",
       "<style scoped>\n",
       "    .dataframe tbody tr th:only-of-type {\n",
       "        vertical-align: middle;\n",
       "    }\n",
       "\n",
       "    .dataframe tbody tr th {\n",
       "        vertical-align: top;\n",
       "    }\n",
       "\n",
       "    .dataframe thead th {\n",
       "        text-align: right;\n",
       "    }\n",
       "</style>\n",
       "<table border=\"1\" class=\"dataframe\">\n",
       "  <thead>\n",
       "    <tr style=\"text-align: right;\">\n",
       "      <th></th>\n",
       "      <th>region_id</th>\n",
       "      <th>age</th>\n",
       "      <th>sex</th>\n",
       "      <th>marital_status</th>\n",
       "      <th>ethnicity</th>\n",
       "      <th>income</th>\n",
       "      <th>adj_factor</th>\n",
       "    </tr>\n",
       "  </thead>\n",
       "  <tbody>\n",
       "    <tr>\n",
       "      <th>0</th>\n",
       "      <td>1</td>\n",
       "      <td>1</td>\n",
       "      <td>0</td>\n",
       "      <td>0</td>\n",
       "      <td>0</td>\n",
       "      <td>0</td>\n",
       "      <td>4431.16</td>\n",
       "    </tr>\n",
       "    <tr>\n",
       "      <th>1</th>\n",
       "      <td>1</td>\n",
       "      <td>1</td>\n",
       "      <td>0</td>\n",
       "      <td>0</td>\n",
       "      <td>0</td>\n",
       "      <td>1</td>\n",
       "      <td>8898.50</td>\n",
       "    </tr>\n",
       "    <tr>\n",
       "      <th>2</th>\n",
       "      <td>1</td>\n",
       "      <td>1</td>\n",
       "      <td>0</td>\n",
       "      <td>0</td>\n",
       "      <td>0</td>\n",
       "      <td>2</td>\n",
       "      <td>4129.49</td>\n",
       "    </tr>\n",
       "    <tr>\n",
       "      <th>3</th>\n",
       "      <td>1</td>\n",
       "      <td>1</td>\n",
       "      <td>0</td>\n",
       "      <td>0</td>\n",
       "      <td>1</td>\n",
       "      <td>1</td>\n",
       "      <td>18217.76</td>\n",
       "    </tr>\n",
       "    <tr>\n",
       "      <th>4</th>\n",
       "      <td>1</td>\n",
       "      <td>1</td>\n",
       "      <td>0</td>\n",
       "      <td>0</td>\n",
       "      <td>3</td>\n",
       "      <td>1</td>\n",
       "      <td>3947.46</td>\n",
       "    </tr>\n",
       "  </tbody>\n",
       "</table>\n",
       "</div>"
      ],
      "text/plain": [
       "   region_id  age  sex  marital_status  ethnicity  income  adj_factor\n",
       "0          1    1    0               0          0       0     4431.16\n",
       "1          1    1    0               0          0       1     8898.50\n",
       "2          1    1    0               0          0       2     4129.49\n",
       "3          1    1    0               0          1       1    18217.76\n",
       "4          1    1    0               0          3       1     3947.46"
      ]
     },
     "execution_count": 328,
     "metadata": {},
     "output_type": "execute_result"
    }
   ],
   "source": [
    "census_grouped.head()"
   ]
  },
  {
   "cell_type": "markdown",
   "metadata": {},
   "source": [
    "### Votes"
   ]
  },
  {
   "cell_type": "code",
   "execution_count": 329,
   "metadata": {},
   "outputs": [],
   "source": [
    "votes_users = votes.copy()\n",
    "votes_users = votes_users.merge(users, how='left', on='user_id')"
   ]
  },
  {
   "cell_type": "code",
   "execution_count": 330,
   "metadata": {},
   "outputs": [],
   "source": [
    "#Age\n",
    "votes_users['age'] = pd.cut(votes_users['age'], bins=[-1,21,25,35,45,60,1000],\n",
    "                           labels=[0,1,2,3,4,5]).astype('int')\n",
    "votes_users = votes_users[votes_users['age']!=0]\n",
    "#Income\n",
    "votes_users['income'] = pd.cut(votes_users['income'], bins=[-1,1000,2500,5000,7000,1000000],\n",
    "                           labels=[0,1,2,3,4]).astype('int')"
   ]
  },
  {
   "cell_type": "code",
   "execution_count": 331,
   "metadata": {},
   "outputs": [],
   "source": [
    "votes_grouped = votes_users.groupby(['region_id', 'issue', 'vote',\n",
    "                                     'sex', 'age', 'marital_status',\n",
    "                                     'income','ethnicity'\n",
    "                                    ]).agg({'user_id':'count'}).reset_index()"
   ]
  },
  {
   "cell_type": "code",
   "execution_count": 332,
   "metadata": {},
   "outputs": [],
   "source": [
    "votes_grouped = votes_grouped.rename(columns={'user_id':'votes'})"
   ]
  },
  {
   "cell_type": "code",
   "execution_count": 334,
   "metadata": {},
   "outputs": [],
   "source": [
    "# Select one region and one issue\n",
    "# One issue, one region\n",
    "df = votes_grouped.copy()\n",
    "df = df[(df['issue']==1)&(df['region_id']==1)]"
   ]
  },
  {
   "cell_type": "code",
   "execution_count": 335,
   "metadata": {},
   "outputs": [],
   "source": [
    "df_2 = pd.pivot_table(df, values='votes', index=['region_id', 'issue', 'sex',\n",
    "                                     'age', 'marital_status',\n",
    "                                     'income','ethnicity'],\n",
    "                    columns=['vote'], aggfunc=np.sum).reset_index()"
   ]
  },
  {
   "cell_type": "code",
   "execution_count": 336,
   "metadata": {},
   "outputs": [],
   "source": [
    "df_2 = df_2.rename(columns={0:'votes_against',\n",
    "                            1:'votes_in_favor',\n",
    "                           })"
   ]
  },
  {
   "cell_type": "code",
   "execution_count": 337,
   "metadata": {},
   "outputs": [],
   "source": [
    "df_2['votes_in_favor'] = df_2['votes_in_favor'].fillna(0)\n",
    "df_2['votes_against'] = df_2['votes_against'].fillna(0)"
   ]
  },
  {
   "cell_type": "code",
   "execution_count": 338,
   "metadata": {},
   "outputs": [],
   "source": [
    "df_2['total_votes'] = df_2['votes_against']+df_2['votes_in_favor']"
   ]
  },
  {
   "cell_type": "code",
   "execution_count": 339,
   "metadata": {},
   "outputs": [],
   "source": [
    "df_2['sample_weight'] = df_2['total_votes']/df_2['total_votes'].sum()"
   ]
  },
  {
   "cell_type": "code",
   "execution_count": 340,
   "metadata": {},
   "outputs": [
    {
     "data": {
      "text/html": [
       "<div>\n",
       "<style scoped>\n",
       "    .dataframe tbody tr th:only-of-type {\n",
       "        vertical-align: middle;\n",
       "    }\n",
       "\n",
       "    .dataframe tbody tr th {\n",
       "        vertical-align: top;\n",
       "    }\n",
       "\n",
       "    .dataframe thead th {\n",
       "        text-align: right;\n",
       "    }\n",
       "</style>\n",
       "<table border=\"1\" class=\"dataframe\">\n",
       "  <thead>\n",
       "    <tr style=\"text-align: right;\">\n",
       "      <th>vote</th>\n",
       "      <th>region_id</th>\n",
       "      <th>issue</th>\n",
       "      <th>sex</th>\n",
       "      <th>age</th>\n",
       "      <th>marital_status</th>\n",
       "      <th>income</th>\n",
       "      <th>ethnicity</th>\n",
       "      <th>votes_against</th>\n",
       "      <th>votes_in_favor</th>\n",
       "      <th>total_votes</th>\n",
       "      <th>sample_weight</th>\n",
       "    </tr>\n",
       "  </thead>\n",
       "  <tbody>\n",
       "    <tr>\n",
       "      <th>0</th>\n",
       "      <td>1</td>\n",
       "      <td>1</td>\n",
       "      <td>0</td>\n",
       "      <td>1</td>\n",
       "      <td>0</td>\n",
       "      <td>2</td>\n",
       "      <td>0</td>\n",
       "      <td>5.0</td>\n",
       "      <td>3.0</td>\n",
       "      <td>8.0</td>\n",
       "      <td>0.008056</td>\n",
       "    </tr>\n",
       "    <tr>\n",
       "      <th>1</th>\n",
       "      <td>1</td>\n",
       "      <td>1</td>\n",
       "      <td>0</td>\n",
       "      <td>1</td>\n",
       "      <td>0</td>\n",
       "      <td>2</td>\n",
       "      <td>1</td>\n",
       "      <td>0.0</td>\n",
       "      <td>3.0</td>\n",
       "      <td>3.0</td>\n",
       "      <td>0.003021</td>\n",
       "    </tr>\n",
       "    <tr>\n",
       "      <th>2</th>\n",
       "      <td>1</td>\n",
       "      <td>1</td>\n",
       "      <td>0</td>\n",
       "      <td>1</td>\n",
       "      <td>0</td>\n",
       "      <td>2</td>\n",
       "      <td>2</td>\n",
       "      <td>5.0</td>\n",
       "      <td>2.0</td>\n",
       "      <td>7.0</td>\n",
       "      <td>0.007049</td>\n",
       "    </tr>\n",
       "    <tr>\n",
       "      <th>3</th>\n",
       "      <td>1</td>\n",
       "      <td>1</td>\n",
       "      <td>0</td>\n",
       "      <td>1</td>\n",
       "      <td>0</td>\n",
       "      <td>3</td>\n",
       "      <td>0</td>\n",
       "      <td>4.0</td>\n",
       "      <td>2.0</td>\n",
       "      <td>6.0</td>\n",
       "      <td>0.006042</td>\n",
       "    </tr>\n",
       "    <tr>\n",
       "      <th>4</th>\n",
       "      <td>1</td>\n",
       "      <td>1</td>\n",
       "      <td>0</td>\n",
       "      <td>1</td>\n",
       "      <td>0</td>\n",
       "      <td>4</td>\n",
       "      <td>2</td>\n",
       "      <td>4.0</td>\n",
       "      <td>4.0</td>\n",
       "      <td>8.0</td>\n",
       "      <td>0.008056</td>\n",
       "    </tr>\n",
       "  </tbody>\n",
       "</table>\n",
       "</div>"
      ],
      "text/plain": [
       "vote  region_id  issue  sex  age  marital_status  income  ethnicity  \\\n",
       "0             1      1    0    1               0       2          0   \n",
       "1             1      1    0    1               0       2          1   \n",
       "2             1      1    0    1               0       2          2   \n",
       "3             1      1    0    1               0       3          0   \n",
       "4             1      1    0    1               0       4          2   \n",
       "\n",
       "vote  votes_against  votes_in_favor  total_votes  sample_weight  \n",
       "0               5.0             3.0          8.0       0.008056  \n",
       "1               0.0             3.0          3.0       0.003021  \n",
       "2               5.0             2.0          7.0       0.007049  \n",
       "3               4.0             2.0          6.0       0.006042  \n",
       "4               4.0             4.0          8.0       0.008056  "
      ]
     },
     "execution_count": 340,
     "metadata": {},
     "output_type": "execute_result"
    }
   ],
   "source": [
    "df_2.head()"
   ]
  },
  {
   "cell_type": "markdown",
   "metadata": {},
   "source": [
    "# Join"
   ]
  },
  {
   "cell_type": "code",
   "execution_count": 341,
   "metadata": {},
   "outputs": [],
   "source": [
    "#Be cautious with duplicates. Like with the vote column (it duplicates the same entry twice)"
   ]
  },
  {
   "cell_type": "code",
   "execution_count": 342,
   "metadata": {},
   "outputs": [],
   "source": [
    "df_final = df_2.merge(census_grouped, how='left',\n",
    "                   on=['region_id', 'age', 'sex', \n",
    "                       'marital_status', 'ethnicity','income'\n",
    "                      ])"
   ]
  },
  {
   "cell_type": "code",
   "execution_count": 344,
   "metadata": {},
   "outputs": [],
   "source": [
    "df_final['adj_factor'] = df_final['adj_factor'].fillna(0)"
   ]
  },
  {
   "cell_type": "code",
   "execution_count": 345,
   "metadata": {},
   "outputs": [],
   "source": [
    "df_final['weight_census'] = df_final['adj_factor']/df_final['adj_factor'].sum()"
   ]
  },
  {
   "cell_type": "code",
   "execution_count": 346,
   "metadata": {},
   "outputs": [],
   "source": [
    "#Esto hay que verificarlo, no estoy seguro\n",
    "df_final['weight_census'] = df_final['weight_census'].fillna(0)"
   ]
  },
  {
   "cell_type": "code",
   "execution_count": 347,
   "metadata": {},
   "outputs": [
    {
     "data": {
      "text/plain": [
       "202404.18"
      ]
     },
     "execution_count": 347,
     "metadata": {},
     "output_type": "execute_result"
    }
   ],
   "source": [
    "df_final['adj_factor'].sum()"
   ]
  },
  {
   "cell_type": "code",
   "execution_count": 348,
   "metadata": {},
   "outputs": [
    {
     "data": {
      "text/plain": [
       "1.0"
      ]
     },
     "execution_count": 348,
     "metadata": {},
     "output_type": "execute_result"
    }
   ],
   "source": [
    "df_final['weight_census'].sum()"
   ]
  },
  {
   "cell_type": "markdown",
   "metadata": {},
   "source": [
    "# Estimates"
   ]
  },
  {
   "cell_type": "code",
   "execution_count": 349,
   "metadata": {},
   "outputs": [],
   "source": [
    "df_final['perc_favor'] = df_final['votes_in_favor']/df_final['total_votes']\n",
    "df_final['perc_against'] = df_final['votes_against']/df_final['total_votes']"
   ]
  },
  {
   "cell_type": "code",
   "execution_count": 350,
   "metadata": {},
   "outputs": [],
   "source": [
    "df_final['perc_favor_sample'] = df_final['perc_favor']*df_final['sample_weight']\n",
    "df_final['perc_against_sample'] = df_final['perc_against']*df_final['sample_weight']"
   ]
  },
  {
   "cell_type": "code",
   "execution_count": 351,
   "metadata": {},
   "outputs": [],
   "source": [
    "df_final['perc_favor_adj'] = df_final['perc_favor']*df_final['weight_census']\n",
    "df_final['perc_against_adj'] = df_final['perc_against']*df_final['weight_census']"
   ]
  },
  {
   "cell_type": "code",
   "execution_count": 357,
   "metadata": {},
   "outputs": [
    {
     "data": {
      "text/html": [
       "<div>\n",
       "<style scoped>\n",
       "    .dataframe tbody tr th:only-of-type {\n",
       "        vertical-align: middle;\n",
       "    }\n",
       "\n",
       "    .dataframe tbody tr th {\n",
       "        vertical-align: top;\n",
       "    }\n",
       "\n",
       "    .dataframe thead th {\n",
       "        text-align: right;\n",
       "    }\n",
       "</style>\n",
       "<table border=\"1\" class=\"dataframe\">\n",
       "  <thead>\n",
       "    <tr style=\"text-align: right;\">\n",
       "      <th></th>\n",
       "      <th>perc_favor_sample</th>\n",
       "      <th>perc_against_sample</th>\n",
       "      <th>perc_favor_adj</th>\n",
       "      <th>perc_against_adj</th>\n",
       "    </tr>\n",
       "    <tr>\n",
       "      <th>age</th>\n",
       "      <th></th>\n",
       "      <th></th>\n",
       "      <th></th>\n",
       "      <th></th>\n",
       "    </tr>\n",
       "  </thead>\n",
       "  <tbody>\n",
       "    <tr>\n",
       "      <th>1</th>\n",
       "      <td>0.044310</td>\n",
       "      <td>0.044310</td>\n",
       "      <td>0.007651</td>\n",
       "      <td>0.012751</td>\n",
       "    </tr>\n",
       "    <tr>\n",
       "      <th>2</th>\n",
       "      <td>0.065458</td>\n",
       "      <td>0.069486</td>\n",
       "      <td>0.034783</td>\n",
       "      <td>0.068182</td>\n",
       "    </tr>\n",
       "    <tr>\n",
       "      <th>3</th>\n",
       "      <td>0.114804</td>\n",
       "      <td>0.121853</td>\n",
       "      <td>0.211273</td>\n",
       "      <td>0.222931</td>\n",
       "    </tr>\n",
       "    <tr>\n",
       "      <th>4</th>\n",
       "      <td>0.149043</td>\n",
       "      <td>0.150050</td>\n",
       "      <td>0.082863</td>\n",
       "      <td>0.250298</td>\n",
       "    </tr>\n",
       "    <tr>\n",
       "      <th>5</th>\n",
       "      <td>0.109768</td>\n",
       "      <td>0.130916</td>\n",
       "      <td>0.053199</td>\n",
       "      <td>0.056068</td>\n",
       "    </tr>\n",
       "  </tbody>\n",
       "</table>\n",
       "</div>"
      ],
      "text/plain": [
       "     perc_favor_sample  perc_against_sample  perc_favor_adj  perc_against_adj\n",
       "age                                                                          \n",
       "1             0.044310             0.044310        0.007651          0.012751\n",
       "2             0.065458             0.069486        0.034783          0.068182\n",
       "3             0.114804             0.121853        0.211273          0.222931\n",
       "4             0.149043             0.150050        0.082863          0.250298\n",
       "5             0.109768             0.130916        0.053199          0.056068"
      ]
     },
     "execution_count": 357,
     "metadata": {},
     "output_type": "execute_result"
    }
   ],
   "source": [
    "df_final.groupby('age').agg({'perc_favor_sample':'sum',\n",
    "                             'perc_against_sample':'sum',\n",
    "                             'perc_favor_adj':'sum',\n",
    "                             'perc_against_adj':'sum',\n",
    "                            })#['perc_against_adj'].sum()"
   ]
  },
  {
   "cell_type": "code",
   "execution_count": null,
   "metadata": {},
   "outputs": [],
   "source": []
  }
 ],
 "metadata": {
  "kernelspec": {
   "display_name": "Python 3",
   "language": "python",
   "name": "python3"
  },
  "language_info": {
   "codemirror_mode": {
    "name": "ipython",
    "version": 3
   },
   "file_extension": ".py",
   "mimetype": "text/x-python",
   "name": "python",
   "nbconvert_exporter": "python",
   "pygments_lexer": "ipython3",
   "version": "3.8.5"
  }
 },
 "nbformat": 4,
 "nbformat_minor": 4
}
